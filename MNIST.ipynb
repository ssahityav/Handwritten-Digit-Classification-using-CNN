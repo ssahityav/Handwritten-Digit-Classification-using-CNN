{
  "nbformat": 4,
  "nbformat_minor": 0,
  "metadata": {
    "colab": {
      "name": "OptimizationAssignment1.ipynb",
      "provenance": [],
      "collapsed_sections": []
    },
    "kernelspec": {
      "name": "python3",
      "display_name": "Python 3"
    },
    "language_info": {
      "name": "python"
    },
    "accelerator": "GPU"
  },
  "cells": [
    {
      "cell_type": "markdown",
      "source": [
        "# <center> **Classification using CNN on MNIST Dataset** </center>\n"
      ],
      "metadata": {
        "id": "5mgtg5jWMvkT"
      }
    },
    {
      "cell_type": "markdown",
      "source": [
        "## Import the libraries"
      ],
      "metadata": {
        "id": "7zaMT-tz2KbH"
      }
    },
    {
      "cell_type": "code",
      "execution_count": 36,
      "metadata": {
        "id": "X4KPBB3uwaHt"
      },
      "outputs": [],
      "source": [
        "import tensorflow as tf\n",
        "import numpy as np\n",
        "import matplotlib.pyplot as plt\n",
        "from sklearn import metrics\n",
        "import pandas as pd\n",
        "import visualkeras"
      ]
    },
    {
      "cell_type": "markdown",
      "source": [
        "## Read in the dataset"
      ],
      "metadata": {
        "id": "C3BZin4H2Tah"
      }
    },
    {
      "cell_type": "code",
      "source": [
        "mnist = tf.keras.datasets.mnist\n",
        "\n",
        "(x_train, y_train),(x_test, y_test) = mnist.load_data()\n",
        "x_train, x_test = x_train / 255.0, x_test / 255.0\n",
        "\n",
        "ndata_train = x_train.shape[0]\n",
        "ndata_test = x_test.shape[0]"
      ],
      "metadata": {
        "id": "cFZCTjYiwfva"
      },
      "execution_count": 37,
      "outputs": []
    },
    {
      "cell_type": "code",
      "source": [
        "x_train.shape"
      ],
      "metadata": {
        "colab": {
          "base_uri": "https://localhost:8080/"
        },
        "id": "e1Yvn9_fwyYx",
        "outputId": "9d4cdcaa-6f07-4445-f0e8-8309201949f3"
      },
      "execution_count": 38,
      "outputs": [
        {
          "output_type": "execute_result",
          "data": {
            "text/plain": [
              "(60000, 28, 28)"
            ]
          },
          "metadata": {},
          "execution_count": 38
        }
      ]
    },
    {
      "cell_type": "code",
      "source": [
        "x_train = x_train.reshape((ndata_train,28,28,1)) # One color channel for 60000 images of 28*28 pixel resolution\n",
        "x_test = x_test.reshape((ndata_test,28,28,1))\n",
        "\n",
        "xshape = x_train.shape[1:4]"
      ],
      "metadata": {
        "id": "bmsRJCSMw0AB"
      },
      "execution_count": 39,
      "outputs": []
    },
    {
      "cell_type": "code",
      "source": [
        "x_train.shape"
      ],
      "metadata": {
        "colab": {
          "base_uri": "https://localhost:8080/"
        },
        "id": "r4l97fOdw1XM",
        "outputId": "73de231d-1f25-480f-824e-d51a6383131e"
      },
      "execution_count": 40,
      "outputs": [
        {
          "output_type": "execute_result",
          "data": {
            "text/plain": [
              "(60000, 28, 28, 1)"
            ]
          },
          "metadata": {},
          "execution_count": 40
        }
      ]
    },
    {
      "cell_type": "markdown",
      "source": [
        "## Create functions to plot accuracy and loss "
      ],
      "metadata": {
        "id": "9UExJwBC2XXX"
      }
    },
    {
      "cell_type": "code",
      "source": [
        "#Display the accuracy and the loss values\n",
        "def plot_accuracy(history):\n",
        "    plt.figure(0)\n",
        "    plt.plot(history.history['accuracy'], label='training accuracy')\n",
        "    if ('val_accuracy' in history.history.keys()):\n",
        "      plt.plot(history.history['val_accuracy'], label='val accuracy')\n",
        "    plt.title('Accuracy')\n",
        "    plt.xlabel('epochs')\n",
        "    plt.ylabel('accuracy')\n",
        "    plt.legend()\n",
        "    return\n",
        "\n",
        "def plot_loss(history):    \n",
        "    plt.figure(1)\n",
        "    plt.plot(history.history['loss'], label='training loss')\n",
        "    if ('val_loss' in history.history.keys()):\n",
        "      plt.plot(history.history['val_loss'], label='val loss')\n",
        "    plt.title('Loss')\n",
        "    plt.xlabel('epochs')\n",
        "    plt.ylabel('loss')\n",
        "    plt.legend()\n",
        "    return"
      ],
      "metadata": {
        "id": "GnDryarqxr7I"
      },
      "execution_count": 41,
      "outputs": []
    },
    {
      "cell_type": "markdown",
      "source": [
        "## Create function to plot Confusion Matrix"
      ],
      "metadata": {
        "id": "qw1rNHD42s06"
      }
    },
    {
      "cell_type": "code",
      "source": [
        "classes = 10\n",
        "\n",
        "def confusion_matrix_plot(y_test, classes_x):\n",
        "    cnf_matrix_test = metrics.confusion_matrix(y_test, classes_x)\n",
        "\n",
        "    ticks = [str(i) for i in range(classes)]\n",
        "\n",
        "    plt.figure(figsize=(5,5))\n",
        "    plt.imshow(cnf_matrix_test, interpolation='nearest', cmap='Pastel1')\n",
        "    plt.title('Confusion matrix - Test Set', size = 15)\n",
        "    tick_marks = np.arange(classes)\n",
        "    plt.xticks(tick_marks, ticks, rotation=45, size = 10)\n",
        "    plt.yticks(tick_marks, ticks, size = 10)\n",
        "    plt.tight_layout()\n",
        "    plt.ylabel('Actual label', size = 15)\n",
        "    plt.xlabel('Predicted label', size = 15)\n",
        "    width, height = cnf_matrix_test.shape\n",
        "    for x in range(width):\n",
        "        for y in range(height):\n",
        "            plt.annotate(str(cnf_matrix_test[x][y]), xy=(y, x), \n",
        "            horizontalalignment='center',\n",
        "            verticalalignment='center')\n",
        "    \n",
        "    return cnf_matrix_test"
      ],
      "metadata": {
        "id": "2qiBLbFX2vpT"
      },
      "execution_count": 42,
      "outputs": []
    },
    {
      "cell_type": "markdown",
      "source": [
        "## Model 1"
      ],
      "metadata": {
        "id": "zUi2UpFD27Pk"
      }
    },
    {
      "cell_type": "code",
      "source": [
        "NNmodel1 = tf.keras.models.Sequential()\n",
        "NNmodel1.add(tf.keras.layers.Conv2D(filters=64,kernel_size=(5,5),activation=tf.nn.relu,input_shape=xshape))\n",
        "NNmodel1.add(tf.keras.layers.Conv2D(filters=64,kernel_size=(5,5),activation=tf.nn.relu,input_shape=xshape))\n",
        "NNmodel1.add(tf.keras.layers.MaxPooling2D(pool_size = (2,2),strides=2))\n",
        "NNmodel1.add(tf.keras.layers.Conv2D(filters=64,kernel_size=(5,5),activation=tf.nn.relu,input_shape=xshape))\n",
        "NNmodel1.add(tf.keras.layers.MaxPooling2D(pool_size = (2,2),strides=2))\n",
        "NNmodel1.add(tf.keras.layers.Flatten())\n",
        "NNmodel1.add(tf.keras.layers.Dense(128,activation=tf.nn.relu,kernel_regularizer = tf.keras.regularizers.l1(0.0002)))\n",
        "NNmodel1.add(tf.keras.layers.Dense(64,activation=tf.nn.softplus,kernel_regularizer = tf.keras.regularizers.l1(0.0005)))\n",
        "NNmodel1.add(tf.keras.layers.Dense(10,activation=tf.nn.softmax))"
      ],
      "metadata": {
        "id": "F_1Me_jgw5_B"
      },
      "execution_count": 43,
      "outputs": []
    },
    {
      "cell_type": "code",
      "source": [
        "NNmodel1.compile(optimizer='adam',\n",
        "              loss='sparse_categorical_crossentropy',\n",
        "              metrics=['accuracy'])\n",
        "\n",
        "NNmodel1.summary()"
      ],
      "metadata": {
        "colab": {
          "base_uri": "https://localhost:8080/"
        },
        "id": "0DCHQoubw9sO",
        "outputId": "1a059076-d927-4204-e427-7b271e1b2d1d"
      },
      "execution_count": 44,
      "outputs": [
        {
          "output_type": "stream",
          "name": "stdout",
          "text": [
            "Model: \"sequential_2\"\n",
            "_________________________________________________________________\n",
            " Layer (type)                Output Shape              Param #   \n",
            "=================================================================\n",
            " conv2d_6 (Conv2D)           (None, 24, 24, 64)        1664      \n",
            "                                                                 \n",
            " conv2d_7 (Conv2D)           (None, 20, 20, 64)        102464    \n",
            "                                                                 \n",
            " max_pooling2d_4 (MaxPooling  (None, 10, 10, 64)       0         \n",
            " 2D)                                                             \n",
            "                                                                 \n",
            " conv2d_8 (Conv2D)           (None, 6, 6, 64)          102464    \n",
            "                                                                 \n",
            " max_pooling2d_5 (MaxPooling  (None, 3, 3, 64)         0         \n",
            " 2D)                                                             \n",
            "                                                                 \n",
            " flatten_2 (Flatten)         (None, 576)               0         \n",
            "                                                                 \n",
            " dense_6 (Dense)             (None, 128)               73856     \n",
            "                                                                 \n",
            " dense_7 (Dense)             (None, 64)                8256      \n",
            "                                                                 \n",
            " dense_8 (Dense)             (None, 10)                650       \n",
            "                                                                 \n",
            "=================================================================\n",
            "Total params: 289,354\n",
            "Trainable params: 289,354\n",
            "Non-trainable params: 0\n",
            "_________________________________________________________________\n"
          ]
        }
      ]
    },
    {
      "cell_type": "markdown",
      "source": [
        "### Visualize the model"
      ],
      "metadata": {
        "id": "g1CwMu8fyx0G"
      }
    },
    {
      "cell_type": "code",
      "source": [
        "visualkeras.layered_view(NNmodel1)"
      ],
      "metadata": {
        "colab": {
          "base_uri": "https://localhost:8080/",
          "height": 145
        },
        "id": "XBD6dpqiw_V0",
        "outputId": "1923148c-9539-4a26-86f5-39b3c0f8cc02"
      },
      "execution_count": 45,
      "outputs": [
        {
          "output_type": "execute_result",
          "data": {
            "image/png": "[encoded data removed]",
            "text/plain": [
              "<PIL.Image.Image image mode=RGBA size=337x128 at 0x7F5779531650>"
            ]
          },
          "metadata": {},
          "execution_count": 45
        }
      ]
    },
    {
      "cell_type": "code",
      "source": [
        "## Train the CNN\n",
        "history_NN1 = NNmodel1.fit(x_train,y_train,epochs=20,validation_split=0.2,batch_size=50)"
      ],
      "metadata": {
        "colab": {
          "base_uri": "https://localhost:8080/"
        },
        "id": "5X1UeggRxO_P",
        "outputId": "0b3bb889-9fc5-4083-ae45-36cf1b9ee416"
      },
      "execution_count": 46,
      "outputs": [
        {
          "output_type": "stream",
          "name": "stdout",
          "text": [
            "Epoch 1/20\n",
            "960/960 [==============================] - 15s 15ms/step - loss: 0.5617 - accuracy: 0.9473 - val_loss: 0.3227 - val_accuracy: 0.9830\n",
            "Epoch 2/20\n",
            "960/960 [==============================] - 15s 15ms/step - loss: 0.2551 - accuracy: 0.9831 - val_loss: 0.2205 - val_accuracy: 0.9795\n",
            "Epoch 3/20\n",
            "960/960 [==============================] - 14s 14ms/step - loss: 0.1634 - accuracy: 0.9865 - val_loss: 0.1498 - val_accuracy: 0.9837\n",
            "Epoch 4/20\n",
            "960/960 [==============================] - 14s 14ms/step - loss: 0.1187 - accuracy: 0.9878 - val_loss: 0.1104 - val_accuracy: 0.9876\n",
            "Epoch 5/20\n",
            "960/960 [==============================] - 14s 14ms/step - loss: 0.0920 - accuracy: 0.9897 - val_loss: 0.1092 - val_accuracy: 0.9843\n",
            "Epoch 6/20\n",
            "960/960 [==============================] - 14s 14ms/step - loss: 0.0774 - accuracy: 0.9909 - val_loss: 0.0968 - val_accuracy: 0.9851\n",
            "Epoch 7/20\n",
            "960/960 [==============================] - 14s 14ms/step - loss: 0.0665 - accuracy: 0.9929 - val_loss: 0.0926 - val_accuracy: 0.9858\n",
            "Epoch 8/20\n",
            "960/960 [==============================] - 14s 14ms/step - loss: 0.0610 - accuracy: 0.9928 - val_loss: 0.0767 - val_accuracy: 0.9886\n",
            "Epoch 9/20\n",
            "960/960 [==============================] - 14s 14ms/step - loss: 0.0546 - accuracy: 0.9945 - val_loss: 0.0706 - val_accuracy: 0.9904\n",
            "Epoch 10/20\n",
            "960/960 [==============================] - 14s 14ms/step - loss: 0.0497 - accuracy: 0.9949 - val_loss: 0.0728 - val_accuracy: 0.9899\n",
            "Epoch 11/20\n",
            "960/960 [==============================] - 14s 14ms/step - loss: 0.0485 - accuracy: 0.9949 - val_loss: 0.0722 - val_accuracy: 0.9901\n",
            "Epoch 12/20\n",
            "960/960 [==============================] - 14s 15ms/step - loss: 0.0430 - accuracy: 0.9958 - val_loss: 0.0870 - val_accuracy: 0.9852\n",
            "Epoch 13/20\n",
            "960/960 [==============================] - 14s 14ms/step - loss: 0.0437 - accuracy: 0.9956 - val_loss: 0.0712 - val_accuracy: 0.9906\n",
            "Epoch 14/20\n",
            "960/960 [==============================] - 14s 14ms/step - loss: 0.0424 - accuracy: 0.9960 - val_loss: 0.0633 - val_accuracy: 0.9910\n",
            "Epoch 15/20\n",
            "960/960 [==============================] - 14s 14ms/step - loss: 0.0395 - accuracy: 0.9965 - val_loss: 0.0723 - val_accuracy: 0.9913\n",
            "Epoch 16/20\n",
            "960/960 [==============================] - 14s 14ms/step - loss: 0.0371 - accuracy: 0.9970 - val_loss: 0.0679 - val_accuracy: 0.9901\n",
            "Epoch 17/20\n",
            "960/960 [==============================] - 14s 14ms/step - loss: 0.0361 - accuracy: 0.9971 - val_loss: 0.0671 - val_accuracy: 0.9915\n",
            "Epoch 18/20\n",
            "960/960 [==============================] - 14s 14ms/step - loss: 0.0339 - accuracy: 0.9971 - val_loss: 0.0687 - val_accuracy: 0.9912\n",
            "Epoch 19/20\n",
            "960/960 [==============================] - 14s 14ms/step - loss: 0.0323 - accuracy: 0.9979 - val_loss: 0.0685 - val_accuracy: 0.9899\n",
            "Epoch 20/20\n",
            "960/960 [==============================] - 14s 14ms/step - loss: 0.0327 - accuracy: 0.9973 - val_loss: 0.0796 - val_accuracy: 0.9870\n"
          ]
        }
      ]
    },
    {
      "cell_type": "code",
      "source": [
        "## Training and validation set accuracy\n",
        "print('Training set accuracy: ', round(history_NN1.history['accuracy'][19],4))\n",
        "print('Validation set accuracy: ', round(history_NN1.history['val_accuracy'][19],4))"
      ],
      "metadata": {
        "colab": {
          "base_uri": "https://localhost:8080/"
        },
        "id": "0OM2BJqY2bS4",
        "outputId": "a4271622-68e7-4f99-ab79-bf3731487f78"
      },
      "execution_count": 47,
      "outputs": [
        {
          "output_type": "stream",
          "name": "stdout",
          "text": [
            "Training set accuracy:  0.9973\n",
            "Validation set accuracy:  0.987\n"
          ]
        }
      ]
    },
    {
      "cell_type": "code",
      "source": [
        "## Predict on x_test\n",
        "\n",
        "NNmodel1.predict(x_test)"
      ],
      "metadata": {
        "colab": {
          "base_uri": "https://localhost:8080/"
        },
        "id": "IF3-A_cbxaVM",
        "outputId": "025882c9-9998-435c-d100-00c91acae1f2"
      },
      "execution_count": 48,
      "outputs": [
        {
          "output_type": "execute_result",
          "data": {
            "text/plain": [
              "array([[7.7262206e-16, 4.9081191e-11, 4.9851496e-09, ..., 9.9999976e-01,\n",
              "        6.8557538e-12, 1.5890883e-09],\n",
              "       [7.3466806e-09, 1.8981255e-12, 1.0000000e+00, ..., 6.0436839e-10,\n",
              "        2.4449170e-10, 4.4859338e-10],\n",
              "       [4.0094260e-06, 9.9987435e-01, 3.0805622e-05, ..., 7.2914787e-05,\n",
              "        2.3502928e-08, 7.6666112e-08],\n",
              "       ...,\n",
              "       [1.5911159e-15, 1.5569222e-15, 3.4565704e-14, ..., 1.2323371e-10,\n",
              "        3.3015427e-14, 1.4656000e-12],\n",
              "       [9.3677973e-15, 3.9074612e-16, 4.8726207e-18, ..., 6.5471894e-15,\n",
              "        3.3102065e-14, 1.0719184e-12],\n",
              "       [5.8952543e-10, 3.5965551e-14, 1.9173244e-18, ..., 6.1555998e-18,\n",
              "        5.1688911e-15, 9.6438442e-14]], dtype=float32)"
            ]
          },
          "metadata": {},
          "execution_count": 48
        }
      ]
    },
    {
      "cell_type": "code",
      "source": [
        "## Test set accuracy\n",
        "\n",
        "pred_probs1 = NNmodel1.predict(x_test)\n",
        "pred1 = np.argmax(pred_probs1, axis=1)\n",
        "print(f'Accuracy: {np.mean(pred1==y_test)}')"
      ],
      "metadata": {
        "colab": {
          "base_uri": "https://localhost:8080/"
        },
        "id": "mW2aPQBZxfHt",
        "outputId": "43a88261-aa8f-43ba-d64e-824af00b68a1"
      },
      "execution_count": 49,
      "outputs": [
        {
          "output_type": "stream",
          "name": "stdout",
          "text": [
            "Accuracy: 0.9881\n"
          ]
        }
      ]
    },
    {
      "cell_type": "code",
      "source": [
        "## Plot Accuracy and loss across different epochs\n",
        "plot_accuracy(history_NN1)\n",
        "plot_loss(history_NN1)"
      ],
      "metadata": {
        "colab": {
          "base_uri": "https://localhost:8080/",
          "height": 573
        },
        "id": "xRhQrn1Ux2RX",
        "outputId": "0fb8e8d1-c68e-4749-f6e3-224ce95c1e30"
      },
      "execution_count": 50,
      "outputs": [
        {
          "output_type": "display_data",
          "data": {
            "image/png": "[encoded data removed]",
            "text/plain": [
              "<Figure size 432x288 with 1 Axes>"
            ]
          },
          "metadata": {
            "needs_background": "light"
          }
        },
        {
          "output_type": "display_data",
          "data": {
            "image/png": "[encoded data removed]",
            "text/plain": [
              "<Figure size 432x288 with 1 Axes>"
            ]
          },
          "metadata": {
            "needs_background": "light"
          }
        }
      ]
    },
    {
      "cell_type": "markdown",
      "source": [
        "## Re-train the entire dataset with the same model architecture"
      ],
      "metadata": {
        "id": "q5Bu7NiXOceh"
      }
    },
    {
      "cell_type": "code",
      "source": [
        "NNmodel = tf.keras.models.Sequential()\n",
        "NNmodel.add(tf.keras.layers.Conv2D(filters=64,kernel_size=(5,5),activation=tf.nn.relu,input_shape=xshape))\n",
        "NNmodel.add(tf.keras.layers.Conv2D(filters=64,kernel_size=(5,5),activation=tf.nn.relu,input_shape=xshape))\n",
        "NNmodel.add(tf.keras.layers.MaxPooling2D(pool_size = (2,2),strides=2))\n",
        "NNmodel.add(tf.keras.layers.Conv2D(filters=64,kernel_size=(5,5),activation=tf.nn.relu,input_shape=xshape))\n",
        "NNmodel.add(tf.keras.layers.MaxPooling2D(pool_size = (2,2),strides=2))\n",
        "NNmodel.add(tf.keras.layers.Flatten())\n",
        "NNmodel.add(tf.keras.layers.Dense(128,activation=tf.nn.relu,kernel_regularizer = tf.keras.regularizers.l1(0.0002)))\n",
        "NNmodel.add(tf.keras.layers.Dense(64,activation=tf.nn.softplus,kernel_regularizer = tf.keras.regularizers.l1(0.0005)))\n",
        "NNmodel.add(tf.keras.layers.Dense(10,activation=tf.nn.softmax))\n",
        "\n",
        "NNmodel.compile(optimizer='adam',\n",
        "              loss='sparse_categorical_crossentropy',\n",
        "              metrics=['accuracy'])"
      ],
      "metadata": {
        "id": "Tr_mqVDy4-88"
      },
      "execution_count": 51,
      "outputs": []
    },
    {
      "cell_type": "code",
      "source": [
        "history_NN = NNmodel.fit(x_train,y_train,epochs=20,batch_size=50)"
      ],
      "metadata": {
        "colab": {
          "base_uri": "https://localhost:8080/"
        },
        "id": "-MwDbjx-Joyf",
        "outputId": "3621e42a-c46c-499a-c65f-52b29cbbf1af"
      },
      "execution_count": 52,
      "outputs": [
        {
          "output_type": "stream",
          "name": "stdout",
          "text": [
            "Epoch 1/20\n",
            "1200/1200 [==============================] - 16s 13ms/step - loss: 0.4944 - accuracy: 0.9512\n",
            "Epoch 2/20\n",
            "1200/1200 [==============================] - 16s 13ms/step - loss: 0.2183 - accuracy: 0.9838\n",
            "Epoch 3/20\n",
            "1200/1200 [==============================] - 16s 13ms/step - loss: 0.1378 - accuracy: 0.9874\n",
            "Epoch 4/20\n",
            "1200/1200 [==============================] - 16s 13ms/step - loss: 0.1015 - accuracy: 0.9891\n",
            "Epoch 5/20\n",
            "1200/1200 [==============================] - 16s 13ms/step - loss: 0.0822 - accuracy: 0.9903\n",
            "Epoch 6/20\n",
            "1200/1200 [==============================] - 16s 13ms/step - loss: 0.0700 - accuracy: 0.9919\n",
            "Epoch 7/20\n",
            "1200/1200 [==============================] - 16s 13ms/step - loss: 0.0624 - accuracy: 0.9926\n",
            "Epoch 8/20\n",
            "1200/1200 [==============================] - 16s 13ms/step - loss: 0.0554 - accuracy: 0.9938\n",
            "Epoch 9/20\n",
            "1200/1200 [==============================] - 16s 13ms/step - loss: 0.0526 - accuracy: 0.9941\n",
            "Epoch 10/20\n",
            "1200/1200 [==============================] - 16s 13ms/step - loss: 0.0483 - accuracy: 0.9947\n",
            "Epoch 11/20\n",
            "1200/1200 [==============================] - 16s 13ms/step - loss: 0.0447 - accuracy: 0.9955\n",
            "Epoch 12/20\n",
            "1200/1200 [==============================] - 16s 13ms/step - loss: 0.0437 - accuracy: 0.9955\n",
            "Epoch 13/20\n",
            "1200/1200 [==============================] - 16s 13ms/step - loss: 0.0388 - accuracy: 0.9961\n",
            "Epoch 14/20\n",
            "1200/1200 [==============================] - 16s 13ms/step - loss: 0.0404 - accuracy: 0.9958\n",
            "Epoch 15/20\n",
            "1200/1200 [==============================] - 16s 13ms/step - loss: 0.0342 - accuracy: 0.9972\n",
            "Epoch 16/20\n",
            "1200/1200 [==============================] - 16s 13ms/step - loss: 0.0379 - accuracy: 0.9967\n",
            "Epoch 17/20\n",
            "1200/1200 [==============================] - 16s 13ms/step - loss: 0.0319 - accuracy: 0.9973\n",
            "Epoch 18/20\n",
            "1200/1200 [==============================] - 16s 13ms/step - loss: 0.0346 - accuracy: 0.9969\n",
            "Epoch 19/20\n",
            "1200/1200 [==============================] - 16s 13ms/step - loss: 0.0336 - accuracy: 0.9972\n",
            "Epoch 20/20\n",
            "1200/1200 [==============================] - 16s 13ms/step - loss: 0.0273 - accuracy: 0.9978\n"
          ]
        }
      ]
    },
    {
      "cell_type": "markdown",
      "source": [
        "### Training set accuracy"
      ],
      "metadata": {
        "id": "lHIObbOKz_yX"
      }
    },
    {
      "cell_type": "code",
      "source": [
        "## Training set accuracy\n",
        "print('Training set accuracy: ', round(history_NN.history['accuracy'][19],4))"
      ],
      "metadata": {
        "colab": {
          "base_uri": "https://localhost:8080/"
        },
        "id": "H_6pGBAOz_fc",
        "outputId": "9a8e05ef-aca2-4988-b22e-c32d512aac53"
      },
      "execution_count": 53,
      "outputs": [
        {
          "output_type": "stream",
          "name": "stdout",
          "text": [
            "Training set accuracy:  0.9978\n"
          ]
        }
      ]
    },
    {
      "cell_type": "code",
      "source": [
        "## Predict on the test set\n",
        "NNmodel.predict(x_test)"
      ],
      "metadata": {
        "colab": {
          "base_uri": "https://localhost:8080/"
        },
        "id": "EATyCQoRJ8bf",
        "outputId": "94af28ed-9a8d-4749-84bd-c94cf26a6fab"
      },
      "execution_count": 54,
      "outputs": [
        {
          "output_type": "execute_result",
          "data": {
            "text/plain": [
              "array([[5.9884098e-14, 3.6000794e-12, 8.0628606e-16, ..., 1.0000000e+00,\n",
              "        9.0165024e-19, 7.6088656e-11],\n",
              "       [1.4646058e-07, 8.7564850e-08, 9.9999881e-01, ..., 9.7555733e-07,\n",
              "        1.2029223e-08, 5.2726556e-10],\n",
              "       [1.3295499e-07, 9.9999118e-01, 1.5027226e-08, ..., 2.1223277e-06,\n",
              "        2.2147454e-07, 2.2768795e-08],\n",
              "       ...,\n",
              "       [1.9881155e-15, 3.7011375e-10, 1.4273585e-11, ..., 2.1957727e-10,\n",
              "        1.7530568e-12, 2.7229160e-11],\n",
              "       [9.0273185e-17, 1.3473826e-16, 7.3011866e-23, ..., 2.0561528e-15,\n",
              "        3.8832439e-14, 2.3887611e-12],\n",
              "       [1.9018875e-08, 1.9777225e-11, 7.7539072e-11, ..., 1.1928693e-14,\n",
              "        8.0074888e-12, 2.1408273e-15]], dtype=float32)"
            ]
          },
          "metadata": {},
          "execution_count": 54
        }
      ]
    },
    {
      "cell_type": "markdown",
      "source": [
        "### Print test set accuracy"
      ],
      "metadata": {
        "id": "mhNw2V3cz7H6"
      }
    },
    {
      "cell_type": "code",
      "source": [
        "## Test set accuracy\n",
        "pred_probs = NNmodel.predict(x_test)\n",
        "pred = np.argmax(pred_probs, axis=1)\n",
        "print(f'Accuracy: {np.mean(pred==y_test)}')"
      ],
      "metadata": {
        "colab": {
          "base_uri": "https://localhost:8080/"
        },
        "id": "cArqpR5uKTOx",
        "outputId": "efb7a182-3c20-4234-f7a4-75163ac83519"
      },
      "execution_count": 55,
      "outputs": [
        {
          "output_type": "stream",
          "name": "stdout",
          "text": [
            "Accuracy: 0.9935\n"
          ]
        }
      ]
    },
    {
      "cell_type": "markdown",
      "source": [
        "#### **Inferences:**\n",
        "\n",
        "- From the results above, we see that the test set accuracy after re-training the model on the entire training set : **0.9919**\n",
        "- The accuracy on the training set after training is **0.9971**. As expected the test accuracy is lower than the train accuracy. However, the model does perform well even with the test data, indicating that the model is a good-fit for the dataset\n",
        "- Comparing with the test set accuracy of **0.992** before re-training the model, we see that the test set accuracy after re-training is almost equal. "
      ],
      "metadata": {
        "id": "YRHF7-Sn0Xju"
      }
    },
    {
      "cell_type": "markdown",
      "source": [
        "### Plot accuracy and loss"
      ],
      "metadata": {
        "id": "YHhGXegZz4gW"
      }
    },
    {
      "cell_type": "code",
      "source": [
        "## Plot accuracy and loss across different epochs\n",
        "plot_accuracy(history_NN)\n",
        "plot_loss(history_NN)"
      ],
      "metadata": {
        "colab": {
          "base_uri": "https://localhost:8080/",
          "height": 573
        },
        "id": "pUAkJvHlKZd1",
        "outputId": "125ecf18-949a-46b2-953e-70fabb7c5ab3"
      },
      "execution_count": 56,
      "outputs": [
        {
          "output_type": "display_data",
          "data": {
            "image/png": "[encoded data removed]",
            "text/plain": [
              "<Figure size 432x288 with 1 Axes>"
            ]
          },
          "metadata": {
            "needs_background": "light"
          }
        },
        {
          "output_type": "display_data",
          "data": {
            "image/png": "[encoded data removed]",
            "text/plain": [
              "<Figure size 432x288 with 1 Axes>"
            ]
          },
          "metadata": {
            "needs_background": "light"
          }
        }
      ]
    },
    {
      "cell_type": "markdown",
      "source": [
        "### Plot confusion matrix"
      ],
      "metadata": {
        "id": "EC3QbTThz1ye"
      }
    },
    {
      "cell_type": "code",
      "source": [
        "## Plot the confusion matrix\n",
        "cnf_matrix_test = confusion_matrix_plot(y_test, pred)"
      ],
      "metadata": {
        "colab": {
          "base_uri": "https://localhost:8080/",
          "height": 388
        },
        "id": "sq-rf2AqyVRI",
        "outputId": "2d5c3b53-1dbc-471c-9170-eafc03aef0c3"
      },
      "execution_count": 57,
      "outputs": [
        {
          "output_type": "display_data",
          "data": {
            "image/png": "[encoded data removed]",
            "text/plain": [
              "<Figure size 360x360 with 1 Axes>"
            ]
          },
          "metadata": {
            "needs_background": "light"
          }
        }
      ]
    },
    {
      "cell_type": "markdown",
      "source": [
        "### Plot misclassified images"
      ],
      "metadata": {
        "id": "E8iaH1VQzysB"
      }
    },
    {
      "cell_type": "markdown",
      "source": [
        "### Function to display common patterns in image misclassification"
      ],
      "metadata": {
        "id": "xI_diBH422AA"
      }
    },
    {
      "cell_type": "code",
      "source": [
        "def misclassified_img(cnf_matrix_test, X_test, y_test):\n",
        "\n",
        "    cnf_matrix_new = cnf_matrix_test\n",
        "    np.fill_diagonal(cnf_matrix_new, 0)\n",
        "    cnf_matrix_new = pd.DataFrame(cnf_matrix_new)\n",
        "\n",
        "    index = []\n",
        "    cols = []\n",
        "    val = []\n",
        "\n",
        "    for i in range(classes):\n",
        "        lst = cnf_matrix_new.index[cnf_matrix_new[i]>3].to_list()\n",
        "        if len(lst)>0:\n",
        "            index.append(lst)\n",
        "            cols.append([i]*len(lst))\n",
        "            \n",
        "    t = []\n",
        "    [t.extend(x) for x in index]\n",
        "    index = t\n",
        "    \n",
        "    t = []\n",
        "    [t.extend(x) for x in cols]\n",
        "    cols = t\n",
        "\n",
        "    return index,cols\n",
        "\n",
        "def plot_misclassified_img(index, cols, X_test, y_test, grid_x, grid_y, y_pred):\n",
        "    i = 0\n",
        "    fig, ax = plt.subplots(grid_x, grid_y, sharex= True, sharey=False)\n",
        "    fig.set_size_inches(15, 15,  forward=True)\n",
        "\n",
        "    for idx, ax_i in enumerate(ax.flatten()):\n",
        "        actual_class = index[idx]\n",
        "        predicted_class = cols[idx]\n",
        "        mask_actual_2 = (y_test == actual_class)\n",
        "        mask_wrong_predictions = (y_pred == predicted_class)\n",
        "\n",
        "        final_mask = mask_wrong_predictions & mask_actual_2\n",
        "\n",
        "        missclassified = X_test[final_mask][0]\n",
        "        missclassified = np.reshape(missclassified, (28,28))\n",
        "\n",
        "        ax_i.imshow(missclassified)\n",
        "        ax_i.set_title(f'Actual: {actual_class};\\nPredicted: {predicted_class}\\n#Misclassifications: {final_mask.sum()}',fontsize=16)\n",
        "        ax_i.axis('off')\n",
        "\n",
        "    plt.show()"
      ],
      "metadata": {
        "id": "9u6Rgg1m230K"
      },
      "execution_count": 58,
      "outputs": []
    },
    {
      "cell_type": "code",
      "source": [
        "## Identify the most common patterns of misclassification\n",
        "index,cols = misclassified_img(cnf_matrix_test, x_test, y_test)\n",
        "print(f'Actual class: {index}, Predicted class: {cols}, Most common combinations of misclassifications: {len(index)}')"
      ],
      "metadata": {
        "colab": {
          "base_uri": "https://localhost:8080/"
        },
        "id": "MDy3QAQA4MWs",
        "outputId": "1b22f881-2427-485d-abb2-ab046d82b370"
      },
      "execution_count": 59,
      "outputs": [
        {
          "output_type": "stream",
          "name": "stdout",
          "text": [
            "Actual class: [5, 2, 9, 4], Predicted class: [3, 7, 7, 9], Most common combinations of misclassifications: 4\n"
          ]
        }
      ]
    },
    {
      "cell_type": "code",
      "source": [
        "plot_misclassified_img(index, cols, x_test, y_test, 2, 2, pred)"
      ],
      "metadata": {
        "colab": {
          "base_uri": "https://localhost:8080/",
          "height": 899
        },
        "id": "25JCMwhV4NzJ",
        "outputId": "d8dacace-13bb-4783-a351-6256b39d5695"
      },
      "execution_count": 61,
      "outputs": [
        {
          "output_type": "display_data",
          "data": {
            "image/png": "[encoded data removed]",
            "text/plain": [
              "<Figure size 1080x1080 with 4 Axes>"
            ]
          },
          "metadata": {
            "needs_background": "light"
          }
        }
      ]
    },
    {
      "cell_type": "markdown",
      "source": [
        "#### **Inferences:**\n",
        "\n",
        "- Looking at the confusion matrix, we see some non-diagonal elements with non-zero values. These values indicate incorrectly classified images\n",
        "- Checking for common patterns, where misclassified image count > 3, we see 8 combinations of images that are misclassified\n",
        "- Printing out a sample image from each of the above combination shows that the images do not clearly show a difference between the digits, which could easily cause the CNN to misclassify images with common patterns. \n",
        "- Additionally, as these handwritten digits dataset have been manually labelled, there will be certain images that the human has labelled, but the CNN cannot catch the patterns in the image, which might alway cause some amount of misclassification. Hence, there is a very low possibility of ever getting a 100% accuracy on this dataset \n",
        "\n",
        "\n",
        "\n",
        "\n",
        "\n",
        "\n",
        "\n",
        "\n",
        "\n",
        "\n"
      ],
      "metadata": {
        "id": "-FLbVJjd2QJ3"
      }
    },
    {
      "cell_type": "markdown",
      "source": [
        "## END-OF-CODE"
      ],
      "metadata": {
        "id": "2uDwH7Gq513B"
      }
    }
  ]
}